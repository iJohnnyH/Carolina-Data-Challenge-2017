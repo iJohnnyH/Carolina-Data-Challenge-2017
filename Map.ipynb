{
 "cells": [
  {
   "cell_type": "code",
   "execution_count": 15,
   "metadata": {
    "collapsed": true
   },
   "outputs": [],
   "source": [
    "import matplotlib.pyplot as mp\n",
    "import matplotlib.cm\n",
    "\n",
    "from mpl_toolkits.basemap import Basemap\n",
    "from matplotlib.patches import Polygon\n",
    "from matplotlib.collections import PatchCollection\n",
    "from matplotlib.colors import Normalize\n"
   ]
  },
  {
   "cell_type": "code",
   "execution_count": 19,
   "metadata": {
    "collapsed": true
   },
   "outputs": [],
   "source": [
    "fig, ax = mp.subplots(figsize=(20,40))\n",
    "\n",
    "m = Basemap(resolution = 'i', \n",
    "           projection = 'tmerc',\n",
    "          \n",
    "           llcrnrlon=-84.3, llcrnrlat=33.8, urcrnrlon=-75.5, urcrnrlat=36.53,\n",
    "           lat_0=35.165, lon_0=-79.9)\n",
    "\n"
   ]
  },
  {
   "cell_type": "code",
   "execution_count": 20,
   "metadata": {
    "scrolled": true
   },
   "outputs": [
    {
     "ename": "SyntaxError",
     "evalue": "(unicode error) 'unicodeescape' codec can't decode bytes in position 2-3: truncated \\UXXXXXXXX escape (<ipython-input-20-a45802aa0276>, line 6)",
     "output_type": "error",
     "traceback": [
      "\u001b[1;36m  File \u001b[1;32m\"<ipython-input-20-a45802aa0276>\"\u001b[1;36m, line \u001b[1;32m6\u001b[0m\n\u001b[1;33m    m.readshapefile('C:\\Users\\nerf2\\Downloads\\Carolina-Data-Challenge-2017-master\\Carolina-Data-Challenge-2017-master\\cb_2016_us_cd115_500k\\cb_2016_us_cd115_500k', 'district')\u001b[0m\n\u001b[1;37m                   ^\u001b[0m\n\u001b[1;31mSyntaxError\u001b[0m\u001b[1;31m:\u001b[0m (unicode error) 'unicodeescape' codec can't decode bytes in position 2-3: truncated \\UXXXXXXXX escape\n"
     ]
    }
   ],
   "source": [
    "m.drawmapboundary(fill_color='#46bcec')\n",
    "m.fillcontinents(color='green',lake_color='#46bcec')\n",
    "m.drawcoastlines()\n",
    "m.drawstates(linewidth=0.5, linestyle='solid', color='black', antialiased=1, ax=None, zorder=None)\n",
    "m.drawcounties(linewidth=0.5, linestyle='solid', color='black', antialiased=1, facecolor='none', ax=None, zorder=None, drawbounds=True)\n",
    "m.readshapefile('C:\\Users\\nerf2\\Downloads\\Carolina-Data-Challenge-2017-master\\Carolina-Data-Challenge-2017-master\\cb_2016_us_cd115_500k\\cb_2016_us_cd115_500k', 'district')\n",
    "mp.show()\n"
   ]
  },
  {
   "cell_type": "code",
   "execution_count": null,
   "metadata": {
    "collapsed": true
   },
   "outputs": [],
   "source": []
  },
  {
   "cell_type": "code",
   "execution_count": null,
   "metadata": {
    "collapsed": true
   },
   "outputs": [],
   "source": []
  }
 ],
 "metadata": {
  "kernelspec": {
   "display_name": "Python 3",
   "language": "python",
   "name": "python3"
  },
  "language_info": {
   "codemirror_mode": {
    "name": "ipython",
    "version": 3
   },
   "file_extension": ".py",
   "mimetype": "text/x-python",
   "name": "python",
   "nbconvert_exporter": "python",
   "pygments_lexer": "ipython3",
   "version": "3.6.1"
  }
 },
 "nbformat": 4,
 "nbformat_minor": 2
}
